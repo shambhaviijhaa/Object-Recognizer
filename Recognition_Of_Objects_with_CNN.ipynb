{
  "nbformat": 4,
  "nbformat_minor": 0,
  "metadata": {
    "colab": {
      "provenance": [],
      "authorship_tag": "ABX9TyPlmtZZOwCtPKYEVr+gab02",
      "include_colab_link": true
    },
    "kernelspec": {
      "name": "python3",
      "display_name": "Python 3"
    },
    "language_info": {
      "name": "python"
    }
  },
  "cells": [
    {
      "cell_type": "markdown",
      "metadata": {
        "id": "view-in-github",
        "colab_type": "text"
      },
      "source": [
        "<a href=\"https://colab.research.google.com/github/shambhaviijhaa/Object-Recognizer/blob/main/Recognition_Of_Objects_with_CNN.ipynb\" target=\"_parent\"><img src=\"https://colab.research.google.com/assets/colab-badge.svg\" alt=\"Open In Colab\"/></a>"
      ]
    },
    {
      "cell_type": "markdown",
      "source": [
        "IMPORTING THE REQUIRED"
      ],
      "metadata": {
        "id": "nkcS6MpDoc_K"
      }
    },
    {
      "cell_type": "code",
      "source": [
        "import tensorflow as tf\n",
        "from keras.utils import np_utils\n",
        "from matplotlib import pyplot as plt\n",
        "import numpy as np"
      ],
      "metadata": {
        "id": "-2o_F1QUoh5p"
      },
      "execution_count": null,
      "outputs": []
    },
    {
      "cell_type": "code",
      "source": [
        "import keras"
      ],
      "metadata": {
        "id": "olJ0Bv55qWa2"
      },
      "execution_count": null,
      "outputs": []
    },
    {
      "cell_type": "markdown",
      "source": [
        "LOADING AND SPLITTING THE DATA"
      ],
      "metadata": {
        "id": "MJkI9Bnpqibz"
      }
    },
    {
      "cell_type": "code",
      "source": [
        "(X_train, y_train), (X_test, y_test) = keras.datasets.cifar10.load_data()"
      ],
      "metadata": {
        "id": "DJq69YHfqWpj",
        "colab": {
          "base_uri": "https://localhost:8080/"
        },
        "outputId": "2f94f995-326c-43c4-e924-49684037ed45"
      },
      "execution_count": null,
      "outputs": [
        {
          "output_type": "stream",
          "name": "stdout",
          "text": [
            "Downloading data from https://www.cs.toronto.edu/~kriz/cifar-10-python.tar.gz\n",
            "170500096/170498071 [==============================] - 2s 0us/step\n",
            "170508288/170498071 [==============================] - 2s 0us/step\n"
          ]
        }
      ]
    },
    {
      "cell_type": "code",
      "source": [
        "print('Training Images: {}'.format(X_train.shape))\n",
        "print('Testing Images: {}'.format(X_test.shape))"
      ],
      "metadata": {
        "id": "Y665PtekqWtV",
        "colab": {
          "base_uri": "https://localhost:8080/"
        },
        "outputId": "2eb3932c-2d1d-4202-8198-a44fc7809490"
      },
      "execution_count": null,
      "outputs": [
        {
          "output_type": "stream",
          "name": "stdout",
          "text": [
            "Training Images: (50000, 32, 32, 3)\n",
            "Testing Images: (10000, 32, 32, 3)\n"
          ]
        }
      ]
    },
    {
      "cell_type": "code",
      "source": [
        "print(X_train[0].shape)"
      ],
      "metadata": {
        "id": "cCJ12QgKqWwi",
        "colab": {
          "base_uri": "https://localhost:8080/"
        },
        "outputId": "1c0f9166-f8de-47e4-a8de-0a3854a7d832"
      },
      "execution_count": null,
      "outputs": [
        {
          "output_type": "stream",
          "name": "stdout",
          "text": [
            "(32, 32, 3)\n"
          ]
        }
      ]
    },
    {
      "cell_type": "code",
      "source": [
        "for i in range(332,336):\n",
        "    plt.subplot(120+ 1 + i)\n",
        "    img = X_train[i]\n",
        "    plt.imshow(img)\n",
        "    plt.show()"
      ],
      "metadata": {
        "id": "PcN-o63Jq8E1",
        "colab": {
          "base_uri": "https://localhost:8080/",
          "height": 341
        },
        "outputId": "64827b54-e859-460c-94b6-4044eed9218c"
      },
      "execution_count": null,
      "outputs": [
        {
          "output_type": "display_data",
          "data": {
            "text/plain": [
              "<Figure size 432x288 with 1 Axes>"
            ],
            "image/png": "[encoded data removed]"
          },
          "metadata": {
            "needs_background": "light"
          }
        },
        {
          "output_type": "display_data",
          "data": {
            "text/plain": [
              "<Figure size 432x288 with 1 Axes>"
            ],
            "image/png": "[encoded data removed]"
          },
          "metadata": {
            "needs_background": "light"
          }
        },
        {
          "output_type": "display_data",
          "data": {
            "text/plain": [
              "<Figure size 432x288 with 1 Axes>"
            ],
            "image/png": "[encoded data removed]"
          },
          "metadata": {
            "needs_background": "light"
          }
        },
        {
          "output_type": "display_data",
          "data": {
            "text/plain": [
              "<Figure size 432x288 with 1 Axes>"
            ],
            "image/png": "[encoded data removed]"
          },
          "metadata": {
            "needs_background": "light"
          }
        }
      ]
    },
    {
      "cell_type": "markdown",
      "source": [
        "PREPROCESSING THE DATA"
      ],
      "metadata": {
        "id": "u-ZghBLBrQcu"
      }
    },
    {
      "cell_type": "code",
      "source": [
        "X_train = X_train.reshape(X_train.shape[0], 32, 32, 3)\n",
        "X_test = X_test.reshape(X_test.shape[0], 32, 32, 3)\n",
        "X_train = X_train.astype('float32')\n",
        "X_test = X_test.astype('float32')\n",
        "\n",
        "\n",
        "X_train /= 255\n",
        "X_test=X_test/255\n",
        "\n",
        "\n",
        "n_classes = 10\n",
        "\n",
        "print(\"Shape before one-hot encoding: \", y_train.shape)\n",
        "Y_train = np_utils.to_categorical(y_train, n_classes)\n",
        "Y_test = np_utils.to_categorical(y_test, n_classes)\n",
        "print(\"Shape after one-hot encoding: \", Y_train.shape)"
      ],
      "metadata": {
        "id": "jc_02L49rJi1",
        "colab": {
          "base_uri": "https://localhost:8080/"
        },
        "outputId": "2fb69c3c-847b-44ec-ffdc-7725e966704d"
      },
      "execution_count": null,
      "outputs": [
        {
          "output_type": "stream",
          "name": "stdout",
          "text": [
            "Shape before one-hot encoding:  (50000, 1)\n",
            "Shape after one-hot encoding:  (50000, 10)\n"
          ]
        }
      ]
    },
    {
      "cell_type": "markdown",
      "source": [
        "BUILDING THE MODEL"
      ],
      "metadata": {
        "id": "IKlOgvkCnkCX"
      }
    },
    {
      "cell_type": "code",
      "source": [
        "from keras.models import Sequential\n",
        "from keras.layers import Dense, Dropout, Conv2D, MaxPool2D, Flatten\n",
        "\n",
        "model = Sequential()\n",
        "#convolutional layers\n",
        "model.add(Conv2D(50, kernel_size=(3,3), strides=(1,1), padding='same', activation='relu', input_shape=(32, 32, 3)))\n",
        "\n",
        "model.add(Conv2D(75, kernel_size=(3,3), strides=(1,1), padding='same', activation='relu'))\n",
        "model.add(MaxPool2D(pool_size=(2,2)))\n",
        "model.add(Dropout(0.25))\n",
        "\n",
        "model.add(Conv2D(125, kernel_size=(3,3), strides=(1,1), padding='same', activation='relu'))\n",
        "model.add(MaxPool2D(pool_size=(2,2)))\n",
        "model.add(Dropout(0.25))\n",
        "\n",
        "model.add(Flatten())\n",
        "\n",
        "# hidden layer\n",
        "model.add(Dense(500, activation='relu'))\n",
        "model.add(Dropout(0.4))\n",
        "model.add(Dense(250, activation='relu'))\n",
        "model.add(Dropout(0.3))\n",
        "# output layer\n",
        "model.add(Dense(10, activation='softmax'))\\\n",
        "\n",
        "# compiling \n",
        "model.compile(loss='categorical_crossentropy', metrics=['accuracy'], optimizer='adam')\n",
        "\n",
        "# training the model \n",
        "model.fit(X_train, Y_train, batch_size=128, epochs=50, validation_data=(X_test, Y_test))"
      ],
      "metadata": {
        "id": "Z1zTrFflq8ID",
        "colab": {
          "base_uri": "https://localhost:8080/"
        },
        "outputId": "9382b5ec-7231-4598-b4e2-30ee8f16972d"
      },
      "execution_count": null,
      "outputs": [
        {
          "output_type": "stream",
          "name": "stdout",
          "text": [
            "Epoch 1/20\n",
            "391/391 [==============================] - 568s 1s/step - loss: 1.6067 - accuracy: 0.4105 - val_loss: 1.2320 - val_accuracy: 0.5684\n",
            "Epoch 2/20\n",
            "391/391 [==============================] - 563s 1s/step - loss: 1.1342 - accuracy: 0.5977 - val_loss: 0.9175 - val_accuracy: 0.6823\n",
            "Epoch 3/20\n",
            "391/391 [==============================] - 564s 1s/step - loss: 0.9412 - accuracy: 0.6700 - val_loss: 0.8205 - val_accuracy: 0.7128\n",
            "Epoch 4/20\n",
            "391/391 [==============================] - 566s 1s/step - loss: 0.8277 - accuracy: 0.7097 - val_loss: 0.7678 - val_accuracy: 0.7330\n",
            "Epoch 5/20\n",
            "391/391 [==============================] - 565s 1s/step - loss: 0.7453 - accuracy: 0.7408 - val_loss: 0.7094 - val_accuracy: 0.7542\n",
            "Epoch 6/20\n",
            "391/391 [==============================] - 565s 1s/step - loss: 0.6804 - accuracy: 0.7628 - val_loss: 0.6973 - val_accuracy: 0.7624\n",
            "Epoch 7/20\n",
            "391/391 [==============================] - 564s 1s/step - loss: 0.6262 - accuracy: 0.7812 - val_loss: 0.6862 - val_accuracy: 0.7623\n",
            "Epoch 8/20\n",
            "391/391 [==============================] - ETA: 0s - loss: 0.5777 - accuracy: 0.7987Epoch 9/20\n",
            "361/391 [==========================>...] - ETA: 41s - loss: 0.5393 - accuracy: 0.8114"
          ]
        }
      ]
    },
    {
      "cell_type": "markdown",
      "source": [
        "PREDICTING"
      ],
      "metadata": {
        "id": "vnJLIG_fpEMj"
      }
    },
    {
      "cell_type": "code",
      "source": [
        "classes = range(0,10)\n",
        "\n",
        "names = ['airplane',\n",
        "        'automobile',\n",
        "        'bird',\n",
        "        'cat',\n",
        "        'deer',\n",
        "        'dog',\n",
        "        'frog',\n",
        "        'horse',\n",
        "        'ship',\n",
        "        'truck']\n",
        "\n",
        "# zip the names and classes to make a dictionary of class_labels\n",
        "class_labels = dict(zip(classes, names))\n",
        "\n",
        "# generate batch of 9 images to predict\n",
        "batch = X_test[100:109]\n",
        "labels = np.argmax(Y_test[100:109],axis=-1)\n",
        "\n",
        "# make predictions\n",
        "predictions = model.predict(batch, verbose = 1)"
      ],
      "metadata": {
        "id": "QqcEwOSFnmgv"
      },
      "execution_count": null,
      "outputs": []
    },
    {
      "cell_type": "code",
      "source": [
        "print (predictions)"
      ],
      "metadata": {
        "id": "nqeCft6nnmj4"
      },
      "execution_count": null,
      "outputs": []
    },
    {
      "cell_type": "code",
      "source": [
        "for image in predictions:\n",
        "    print(np.sum(image))"
      ],
      "metadata": {
        "id": "14K9Q3oOnnDu"
      },
      "execution_count": null,
      "outputs": []
    },
    {
      "cell_type": "code",
      "source": [
        "class_result = np.argmax(predictions,axis=-1)\n",
        "print (class_result)"
      ],
      "metadata": {
        "id": "ifMlE8Qxp9mX"
      },
      "execution_count": null,
      "outputs": []
    },
    {
      "cell_type": "markdown",
      "source": [
        "FINAL OBJECT DETECTION"
      ],
      "metadata": {
        "id": "30j74L5qqJCQ"
      }
    },
    {
      "cell_type": "code",
      "source": [
        "fig, axs = plt.subplots(3, 3, figsize = (19,6))\n",
        "fig.subplots_adjust(hspace = 1)\n",
        "axs = axs.flatten()\n",
        "\n",
        "for i, img in enumerate(batch):\n",
        "    for key, value in class_labels.items():\n",
        "        if class_result[i] == key:\n",
        "            title = 'Prediction: {}\\\\nActual: {}'.format(class_labels[key], class_labels[labels[i]])\n",
        "            axs[i].set_title(title)\n",
        "            axs[i].axes.get_xaxis().set_visible(False)\n",
        "            axs[i].axes.get_yaxis().set_visible(False)\n",
        "\n",
        "    # plot the image\n",
        "    axs[i].imshow(img)\n",
        "\n",
        "# show the plot\n",
        "plt.show()"
      ],
      "metadata": {
        "id": "CM44Ugubp9pu"
      },
      "execution_count": null,
      "outputs": []
    },
    {
      "cell_type": "code",
      "source": [],
      "metadata": {
        "id": "DPm1uAb2p9sz"
      },
      "execution_count": null,
      "outputs": []
    },
    {
      "cell_type": "code",
      "source": [],
      "metadata": {
        "id": "qXsxFUINp9vV"
      },
      "execution_count": null,
      "outputs": []
    }
  ]
}